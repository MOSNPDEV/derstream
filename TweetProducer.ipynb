{
 "cells": [
  {
   "cell_type": "code",
   "execution_count": 4,
   "metadata": {},
   "outputs": [],
   "source": [
    "import json\n",
    "import time\n",
    "import tweepy\n",
    "\n",
    "import numpy as np\n",
    "\n",
    "from confluent_kafka import Consumer, KafkaException, KafkaError, Producer\n",
    "from tweepy.streaming import StreamListener\n",
    "from tweepy import OAuthHandler\n",
    "from tweepy import Stream\n",
    "\n",
    "from utilities import *\n",
    "from tweet_producer import *"
   ]
  },
  {
   "cell_type": "code",
   "execution_count": 5,
   "metadata": {},
   "outputs": [],
   "source": [
    "with open('TWITTER_CREDENTIALS.JSON') as file:\n",
    "    twitter_credentials = json.load(file)\n",
    "with open('KARAFKA_CREDENTIALS.JSON') as file:\n",
    "    karafka_credentials = json.load(file)\n",
    "\n",
    "conf = {\n",
    "            'bootstrap.servers': karafka_credentials[\"SERVERS\"],\n",
    "            'session.timeout.ms': 6000,\n",
    "            'group.id': \"%s-consumer\" % karafka_credentials[\"USERNAME\"],\n",
    "            'default.topic.config': {'auto.offset.reset': 'smallest'},\n",
    "            'security.protocol': 'SASL_PLAINTEXT',\n",
    "            'sasl.mechanisms': 'SCRAM-SHA-256',\n",
    "            'sasl.username': karafka_credentials[\"USERNAME\"],\n",
    "            'sasl.password': karafka_credentials[\"PASSWORD\"],\n",
    "            'api.version.fallback.ms': 0,\n",
    "            'broker.version.fallback': '0.10.0'        \n",
    "        }\n",
    "\n",
    "conf_local = {\n",
    "            'bootstrap.servers': 'localhost:9092',\n",
    "            'session.timeout.ms': 6000,\n",
    "            'default.topic.config': {'auto.offset.reset': 'smallest'}, \n",
    "            'queue.buffering.max.messages': 1000000, \n",
    "            'queue.buffering.max.ms' : 10,  \n",
    "            'batch.num.messages': 10,   \n",
    "            }\n",
    "\n",
    "def twitter_setup():\n",
    "    auth = OAuthHandler(twitter_credentials[\"KEY\"], twitter_credentials[\"SECRET_KEY\"])\n",
    "    auth.set_access_token(twitter_credentials[\"ACCESS_TOKEN\"], twitter_credentials[\"ACCESS_TOKEN_SECRET\"])\n",
    "    \n",
    "    return auth"
   ]
  },
  {
   "cell_type": "code",
   "execution_count": null,
   "metadata": {},
   "outputs": [],
   "source": [
    "auth = twitter_setup()\n",
    "tweet_producer = TweetKafkaProducer(conf_local)\n",
    "stream = Stream(auth, tweet_producer)\n",
    "stream.sample(stall_warnings=True)"
   ]
  }
 ],
 "metadata": {
  "kernelspec": {
   "display_name": "Python 3",
   "language": "python",
   "name": "python3"
  },
  "language_info": {
   "codemirror_mode": {
    "name": "ipython",
    "version": 3
   },
   "file_extension": ".py",
   "mimetype": "text/x-python",
   "name": "python",
   "nbconvert_exporter": "python",
   "pygments_lexer": "ipython3",
   "version": "3.6.7"
  }
 },
 "nbformat": 4,
 "nbformat_minor": 2
}
