{
 "cells": [
  {
   "cell_type": "code",
   "execution_count": 1,
   "metadata": {},
   "outputs": [],
   "source": [
    "a = [1, 2, 3]\n",
    "b = [2, 3]"
   ]
  },
  {
   "cell_type": "code",
   "execution_count": 10,
   "metadata": {},
   "outputs": [],
   "source": [
    "producer = kafka_setup(conf_local)\n",
    "TOPIC_NAME = \"tweets\"        \n",
    "\n",
    "class TweetKafkaProducer(StreamListener):     \n",
    "    def __init__(self):\n",
    "        self._producer = 0\n",
    "    \n",
    "    def producer_setup(self, configuration_dict):\n",
    "        self._producer = Producer(**configuration_dict)   \n",
    "\n",
    "    def on_data(self, data):\n",
    "        tweet_json = json.loads(data)\n",
    "        if \"text\" in tweet_json:\n",
    "            tweet_text = tweet_json[\"text\"]\n",
    "            tweet = Tweet(tweet_text)\n",
    "            tweet.sanitise()\n",
    "            self._producer.produce(TOPIC_NAME, tweet.get_tweet().encode('utf-8'), callback=delivery_report)\n",
    "            self._producer.poll(0)\n",
    "\n",
    "        return True\n",
    "        \n",
    "    def on_error(self, status):\n",
    "        print (status)    \n",
    "        producer.flush()\n",
    "        \n",
    "def delivery_report(err, msg):\n",
    "    \"\"\" Called once for each message produced to indicate delivery result.\n",
    "    Triggered by poll() or flush(). \"\"\"\n",
    "    if err is not None:\n",
    "        print('Message delivery failed: {}'.format(err))"
   ]
  },
  {
   "cell_type": "code",
   "execution_count": 11,
   "metadata": {},
   "outputs": [
    {
     "data": {
      "text/plain": [
       "{1, 2, 3}"
      ]
     },
     "execution_count": 11,
     "metadata": {},
     "output_type": "execute_result"
    }
   ],
   "source": [
    "adj_dict = Keywords()\n",
    "time_keeper = Keeper()\n",
    "\n",
    "class StdOutListener(StreamListener):     \n",
    "    def on_data(self, data):\n",
    "        tweet_json = json.loads(data)\n",
    "        if \"text\" in tweet_json:\n",
    "            tweet_text = tweet_json[\"text\"]\n",
    "            tweet = Tweet(tweet_text)\n",
    "            tweet.process_tweet()\n",
    "            adj_dict.update_keyword_count(tweet.get_keywords())\n",
    "            time_keeper.increment_counter()\n",
    "            \n",
    "            if time.time() - time_keeper.get_time() > 600:\n",
    "                time_keeper.reset_time()\n",
    "                print(sum(adj_dict.get_dict().values()), time_keeper.get_counter())\n",
    "                np.save(\"tweet_dict\"+str(int(time.time()))+ \"_\" + str(time_keeper.get_counter())+\".npy\", adj_dict.get_dict())\n",
    "                time_keeper.reset_counter()\n",
    "                adj_dict.reset_dict()\n",
    "\n",
    "            return True\n",
    "        \n",
    "    def on_error(self, status):\n",
    "        print (status)       "
   ]
  },
  {
   "cell_type": "code",
   "execution_count": null,
   "metadata": {},
   "outputs": [],
   "source": [
    "auth = twitter_setup()\n",
    "l = StdOutListener()\n",
    "stream = Stream(auth, l)\n",
    "#stream.filter(track=['gold', ], stall_warnings=True)\n",
    "stream.sample(stall_warnings=True)"
   ]
  }
 ],
 "metadata": {
  "kernelspec": {
   "display_name": "Python 3",
   "language": "python",
   "name": "python3"
  },
  "language_info": {
   "codemirror_mode": {
    "name": "ipython",
    "version": 3
   },
   "file_extension": ".py",
   "mimetype": "text/x-python",
   "name": "python",
   "nbconvert_exporter": "python",
   "pygments_lexer": "ipython3",
   "version": "3.6.0"
  }
 },
 "nbformat": 4,
 "nbformat_minor": 2
}
