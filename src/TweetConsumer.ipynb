{
 "cells": [
  {
   "cell_type": "code",
   "execution_count": 1,
   "metadata": {},
   "outputs": [],
   "source": [
    "import json\n",
    "import time\n",
    "import tweepy\n",
    "\n",
    "import numpy as np\n",
    "\n",
    "from confluent_kafka import Consumer, KafkaException, KafkaError, Producer\n",
    "from tweepy.streaming import StreamListener\n",
    "from tweepy import OAuthHandler\n",
    "from tweepy import Stream\n",
    "\n",
    "from utilities import *\n",
    "from tweet_consumer import *"
   ]
  },
  {
   "cell_type": "code",
   "execution_count": 2,
   "metadata": {},
   "outputs": [],
   "source": [
    "conf_local_consumer = {\n",
    "            'bootstrap.servers': 'localhost:9092',\n",
    "            'group.id' : '%s-consumer' % 'local',\n",
    "            'auto.offset.reset': 'earliest',\n",
    "            'session.timeout.ms': 6000,\n",
    "            'default.topic.config': {'auto.offset.reset': 'smallest'}, \n",
    "            'queue.buffering.max.messages': 10000, \n",
    "            'queue.buffering.max.ms' : 10,  \n",
    "            'batch.num.messages': 10,   \n",
    "            \n",
    "}\n",
    "\n",
    "TOPIC_NAME = \"tweets\" "
   ]
  },
  {
   "cell_type": "code",
   "execution_count": null,
   "metadata": {},
   "outputs": [
    {
     "name": "stdout",
     "output_type": "stream",
     "text": [
      "1579 21506\n",
      "1342 19395\n",
      "1273 19732\n"
     ]
    }
   ],
   "source": [
    "consumer = TweetKafkaConsumer(conf_local_consumer)\n",
    "consumer.consumer_subscribe([TOPIC_NAME])\n",
    "consumer.consumer_listen(600)"
   ]
  }
 ],
 "metadata": {
  "kernelspec": {
   "display_name": "Python 3",
   "language": "python",
   "name": "python3"
  },
  "language_info": {
   "codemirror_mode": {
    "name": "ipython",
    "version": 3
   },
   "file_extension": ".py",
   "mimetype": "text/x-python",
   "name": "python",
   "nbconvert_exporter": "python",
   "pygments_lexer": "ipython3",
   "version": "3.6.0"
  }
 },
 "nbformat": 4,
 "nbformat_minor": 2
}
